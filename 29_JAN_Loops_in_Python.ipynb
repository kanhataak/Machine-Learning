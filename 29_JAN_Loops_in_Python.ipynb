{
 "cells": [
  {
   "cell_type": "markdown",
   "metadata": {},
   "source": [
    "### Loops in Python "
   ]
  },
  {
   "cell_type": "markdown",
   "metadata": {},
   "source": [
    "* While\n",
    "* for"
   ]
  },
  {
   "cell_type": "markdown",
   "metadata": {},
   "source": [
    "#### While Loop\n",
    "\n",
    "#### Syntax\n",
    "\n",
    "while condition:\n",
    "\n",
    "    Body of the Loop"
   ]
  },
  {
   "cell_type": "code",
   "execution_count": 1,
   "metadata": {},
   "outputs": [
    {
     "name": "stdout",
     "output_type": "stream",
     "text": [
      "1\n",
      "2\n",
      "3\n",
      "4\n",
      "5\n",
      "6\n",
      "7\n",
      "8\n",
      "9\n"
     ]
    }
   ],
   "source": [
    "a = 1\n",
    "\n",
    "while a<10:\n",
    "    print(a)\n",
    "    a += 1 # a = a+1"
   ]
  },
  {
   "cell_type": "code",
   "execution_count": 2,
   "metadata": {
    "collapsed": true
   },
   "outputs": [
    {
     "name": "stdout",
     "output_type": "stream",
     "text": [
      "Help on built-in function print in module builtins:\n",
      "\n",
      "print(...)\n",
      "    print(value, ..., sep=' ', end='\\n', file=sys.stdout, flush=False)\n",
      "    \n",
      "    Prints the values to a stream, or to sys.stdout by default.\n",
      "    Optional keyword arguments:\n",
      "    file:  a file-like object (stream); defaults to the current sys.stdout.\n",
      "    sep:   string inserted between values, default a space.\n",
      "    end:   string appended after the last value, default a newline.\n",
      "    flush: whether to forcibly flush the stream.\n",
      "\n"
     ]
    }
   ],
   "source": [
    "help(print)"
   ]
  },
  {
   "cell_type": "code",
   "execution_count": 4,
   "metadata": {},
   "outputs": [
    {
     "name": "stdout",
     "output_type": "stream",
     "text": [
      "10 20 30\n",
      "10----20----30\n"
     ]
    }
   ],
   "source": [
    "print(10,20,30)\n",
    "print(10,20,30,sep='----')"
   ]
  },
  {
   "cell_type": "code",
   "execution_count": 6,
   "metadata": {},
   "outputs": [
    {
     "name": "stdout",
     "output_type": "stream",
     "text": [
      "10 20\n",
      "30\n"
     ]
    }
   ],
   "source": [
    "print(10,end=' ')\n",
    "print(20)\n",
    "print(30)"
   ]
  },
  {
   "cell_type": "code",
   "execution_count": 7,
   "metadata": {},
   "outputs": [
    {
     "name": "stdout",
     "output_type": "stream",
     "text": [
      "1 2 3 4 5 6 7 8 9 "
     ]
    }
   ],
   "source": [
    "a = 1\n",
    "\n",
    "while a<10:\n",
    "    print(a,end=' ')\n",
    "    a += 1 # a = a+1"
   ]
  },
  {
   "cell_type": "code",
   "execution_count": 11,
   "metadata": {},
   "outputs": [
    {
     "name": "stdout",
     "output_type": "stream",
     "text": [
      "A : 1\n",
      "\tB : 1\n",
      "\tB : 2\n",
      "A : 2\n",
      "\tB : 1\n",
      "\tB : 2\n",
      "A : 3\n",
      "\tB : 1\n",
      "\tB : 2\n"
     ]
    }
   ],
   "source": [
    "# Nested Loop\n",
    "a = 1\n",
    "\n",
    "while a<=3:\n",
    "    print('A :',a)\n",
    "    b = 1\n",
    "    while b<3:\n",
    "        print('\\tB :',b)\n",
    "        b += 1\n",
    "    a += 1"
   ]
  },
  {
   "cell_type": "code",
   "execution_count": 12,
   "metadata": {},
   "outputs": [
    {
     "name": "stdout",
     "output_type": "stream",
     "text": [
      "[1, 2, 3]\n",
      "[4, 5, 6]\n"
     ]
    }
   ],
   "source": [
    "a = [\n",
    "        [1,2,3],\n",
    "        [4,5,6]\n",
    "    ]\n",
    "\n",
    "n = 0\n",
    "while n<len(a):\n",
    "    print(a[n])\n",
    "    n += 1"
   ]
  },
  {
   "cell_type": "code",
   "execution_count": 21,
   "metadata": {},
   "outputs": [
    {
     "name": "stdout",
     "output_type": "stream",
     "text": [
      "[1, 2, 3]\n",
      "1\n",
      "[4, 5, 6]\n",
      "4\n",
      "2 3\n",
      "N :  0\n",
      "\t M : 0\n",
      "\t M : 1\n",
      "\t M : 2\n",
      "N :  1\n",
      "\t M : 0\n",
      "\t M : 1\n",
      "\t M : 2\n"
     ]
    }
   ],
   "source": [
    "a = [\n",
    "        [1,2,3], #0\n",
    "        [4,5,6] #1\n",
    "    ]\n",
    "\n",
    "print(a[0])\n",
    "print(a[0][0])\n",
    "print(a[1])\n",
    "print(a[1][0])\n",
    "\n",
    "print(len(a),len(a[0]))\n",
    "\n",
    "n = 0\n",
    "while n<len(a):\n",
    "    print('N : ',n)\n",
    "    m = 0\n",
    "    while m<len(a[n]):\n",
    "        print('\\t M :',m)\n",
    "        m += 1\n",
    "    n += 1"
   ]
  },
  {
   "cell_type": "code",
   "execution_count": 13,
   "metadata": {},
   "outputs": [
    {
     "name": "stdout",
     "output_type": "stream",
     "text": [
      "[1, 2, 3]\n",
      "1\n",
      "2\n",
      "3\n",
      "[4, 5, 6]\n",
      "4\n",
      "5\n",
      "6\n"
     ]
    }
   ],
   "source": [
    "a = [\n",
    "        [1,2,3],\n",
    "        [4,5,6]\n",
    "    ]\n",
    "\n",
    "n = 0\n",
    "while n<len(a):\n",
    "    print(a[n])\n",
    "    m = 0\n",
    "    while m <len(a[n]):\n",
    "        print(a[n][m])\n",
    "        m += 1\n",
    "    n += 1"
   ]
  },
  {
   "cell_type": "code",
   "execution_count": 22,
   "metadata": {},
   "outputs": [
    {
     "name": "stdout",
     "output_type": "stream",
     "text": [
      "5 * 1 = 5\n",
      "5 * 2 = 10\n",
      "5 * 3 = 15\n",
      "5 * 4 = 20\n",
      "5 * 5 = 25\n",
      "5 * 6 = 30\n",
      "5 * 7 = 35\n",
      "5 * 8 = 40\n",
      "5 * 9 = 45\n"
     ]
    }
   ],
   "source": [
    "n = 5\n",
    "\n",
    "i = 1\n",
    "\n",
    "while i<10:\n",
    "    print('{} * {} = {}'.format(n,i,n*i))\n",
    "    i += 1"
   ]
  },
  {
   "cell_type": "code",
   "execution_count": 26,
   "metadata": {},
   "outputs": [
    {
     "name": "stdout",
     "output_type": "stream",
     "text": [
      "5 * 1 = 5      6 * 1 = 6      7 * 1 = 7      \n",
      "5 * 2 = 10      6 * 2 = 12      7 * 2 = 14      \n",
      "5 * 3 = 15      6 * 3 = 18      7 * 3 = 21      \n",
      "5 * 4 = 20      6 * 4 = 24      7 * 4 = 28      \n",
      "5 * 5 = 25      6 * 5 = 30      7 * 5 = 35      \n",
      "5 * 6 = 30      6 * 6 = 36      7 * 6 = 42      \n",
      "5 * 7 = 35      6 * 7 = 42      7 * 7 = 49      \n",
      "5 * 8 = 40      6 * 8 = 48      7 * 8 = 56      \n",
      "5 * 9 = 45      6 * 9 = 54      7 * 9 = 63      \n"
     ]
    }
   ],
   "source": [
    "i = 1\n",
    "\n",
    "while i <10:\n",
    "    n = 5\n",
    "    while n<=7:\n",
    "        print('{} * {} = {}'.format(n,i,n*i),end='      ')\n",
    "        n += 1\n",
    "    print()\n",
    "    i += 1"
   ]
  },
  {
   "cell_type": "code",
   "execution_count": 30,
   "metadata": {},
   "outputs": [
    {
     "name": "stdout",
     "output_type": "stream",
     "text": [
      "5 * 1 = 5      6 * 1 = 6      7 * 1 = 7      8 * 1 = 8      9 * 1 = 9     \n",
      "5 * 2 = 10     6 * 2 = 12     7 * 2 = 14     8 * 2 = 16     9 * 2 = 18     \n",
      "5 * 3 = 15     6 * 3 = 18     7 * 3 = 21     8 * 3 = 24     9 * 3 = 27     \n",
      "5 * 4 = 20     6 * 4 = 24     7 * 4 = 28     8 * 4 = 32     9 * 4 = 36     \n",
      "5 * 5 = 25     6 * 5 = 30     7 * 5 = 35     8 * 5 = 40     9 * 5 = 45     \n",
      "5 * 6 = 30     6 * 6 = 36     7 * 6 = 42     8 * 6 = 48     9 * 6 = 54     \n",
      "5 * 7 = 35     6 * 7 = 42     7 * 7 = 49     8 * 7 = 56     9 * 7 = 63     \n",
      "5 * 8 = 40     6 * 8 = 48     7 * 8 = 56     8 * 8 = 64     9 * 8 = 72     \n",
      "5 * 9 = 45     6 * 9 = 54     7 * 9 = 63     8 * 9 = 72     9 * 9 = 81     \n"
     ]
    }
   ],
   "source": [
    "for i in range(1,10):\n",
    "    for n in range(5,9+1):\n",
    "        if i == 1 and n !=5:\n",
    "            print(end =' ')\n",
    "            print('{} * {} = {}'.format(n,i,n*i),end= ' '*5)\n",
    "            continue\n",
    "        print('{} * {} = {}'.format(n,i,n*i),end= ' '*5)\n",
    "    print()\n",
    "        "
   ]
  },
  {
   "cell_type": "code",
   "execution_count": 1,
   "metadata": {},
   "outputs": [
    {
     "name": "stdout",
     "output_type": "stream",
     "text": [
      " 5      6      7      8      9     \n",
      "10     12     14     16     18     \n",
      "15     18     21     24     27     \n",
      "20     24     28     32     36     \n",
      "25     30     35     40     45     \n",
      "30     36     42     48     54     \n",
      "35     42     49     56     63     \n",
      "40     48     56     64     72     \n",
      "45     54     63     72     81     \n",
      "50     60     70     80     90     \n"
     ]
    }
   ],
   "source": [
    "for i in range(1,10+1):\n",
    "    for n in range(5,9+1):\n",
    "        if i == 1:\n",
    "            print(end=' ')\n",
    "        print(n*i,end= ' '*5)\n",
    "    print()"
   ]
  },
  {
   "cell_type": "code",
   "execution_count": 41,
   "metadata": {},
   "outputs": [
    {
     "name": "stdout",
     "output_type": "stream",
     "text": [
      "lcm of 1501 and 2523 is 3787023\n",
      "Loop ran 3784501 times\n"
     ]
    }
   ],
   "source": [
    "a,b = 1501,2523\n",
    "\n",
    "m = max(a,b)\n",
    "flag = 0\n",
    "while True:\n",
    "    flag += 1\n",
    "    if m%a == 0 and m%b == 0:\n",
    "        lcm = m\n",
    "        break\n",
    "    m += 1\n",
    "print('lcm of {} and {} is {}'.format(a,b,lcm))\n",
    "print(\"Loop ran {} times\".format(flag))"
   ]
  },
  {
   "cell_type": "code",
   "execution_count": 43,
   "metadata": {},
   "outputs": [
    {
     "name": "stdout",
     "output_type": "stream",
     "text": [
      "lcm of 1501 and 2523 is 3787023\n",
      "Loop ran 1501 times\n"
     ]
    }
   ],
   "source": [
    "a,b = 1501,2523\n",
    "\n",
    "m = n = max(a,b)\n",
    "flag = 0\n",
    "while True:\n",
    "    flag += 1\n",
    "    if m%a == 0 and m%b == 0:\n",
    "        lcm = m\n",
    "        break\n",
    "    m += n\n",
    "print('lcm of {} and {} is {}'.format(a,b,lcm))\n",
    "print(\"Loop ran {} times\".format(flag))"
   ]
  },
  {
   "cell_type": "markdown",
   "metadata": {},
   "source": [
    "### For Loop in python"
   ]
  },
  {
   "cell_type": "markdown",
   "metadata": {},
   "source": [
    "#### Syntax\n",
    "\n",
    "for variable in sequence:\n",
    "\n",
    "    body of the loop"
   ]
  },
  {
   "cell_type": "code",
   "execution_count": 44,
   "metadata": {},
   "outputs": [
    {
     "name": "stdout",
     "output_type": "stream",
     "text": [
      "P\n",
      "Y\n",
      "T\n",
      "H\n",
      "O\n",
      "N\n"
     ]
    }
   ],
   "source": [
    "for i in \"PYTHON\":\n",
    "    print(i)"
   ]
  },
  {
   "cell_type": "code",
   "execution_count": 48,
   "metadata": {},
   "outputs": [
    {
     "name": "stdout",
     "output_type": "stream",
     "text": [
      "<str_iterator object at 0x008CE110>\n",
      "P\n",
      "Y\n",
      "T\n",
      "H\n",
      "O\n",
      "N\n"
     ]
    },
    {
     "ename": "StopIteration",
     "evalue": "",
     "output_type": "error",
     "traceback": [
      "\u001b[1;31m---------------------------------------------------------------------------\u001b[0m",
      "\u001b[1;31mStopIteration\u001b[0m                             Traceback (most recent call last)",
      "\u001b[1;32m<ipython-input-48-272af7783b4b>\u001b[0m in \u001b[0;36m<module>\u001b[1;34m\u001b[0m\n\u001b[0;32m      8\u001b[0m \u001b[0mprint\u001b[0m\u001b[1;33m(\u001b[0m\u001b[0mnext\u001b[0m\u001b[1;33m(\u001b[0m\u001b[0mb\u001b[0m\u001b[1;33m)\u001b[0m\u001b[1;33m)\u001b[0m\u001b[1;33m\u001b[0m\u001b[1;33m\u001b[0m\u001b[0m\n\u001b[0;32m      9\u001b[0m \u001b[0mprint\u001b[0m\u001b[1;33m(\u001b[0m\u001b[0mnext\u001b[0m\u001b[1;33m(\u001b[0m\u001b[0mb\u001b[0m\u001b[1;33m)\u001b[0m\u001b[1;33m)\u001b[0m\u001b[1;33m\u001b[0m\u001b[1;33m\u001b[0m\u001b[0m\n\u001b[1;32m---> 10\u001b[1;33m \u001b[0mprint\u001b[0m\u001b[1;33m(\u001b[0m\u001b[0mnext\u001b[0m\u001b[1;33m(\u001b[0m\u001b[0mb\u001b[0m\u001b[1;33m)\u001b[0m\u001b[1;33m)\u001b[0m\u001b[1;33m\u001b[0m\u001b[1;33m\u001b[0m\u001b[0m\n\u001b[0m",
      "\u001b[1;31mStopIteration\u001b[0m: "
     ]
    }
   ],
   "source": [
    "a = 'PYTHON'\n",
    "b = iter(a)\n",
    "print(b)\n",
    "print(next(b))\n",
    "print(next(b))\n",
    "print(next(b))\n",
    "print(next(b))\n",
    "print(next(b))\n",
    "print(next(b))\n",
    "print(next(b))"
   ]
  },
  {
   "cell_type": "markdown",
   "metadata": {},
   "source": [
    "#### Basic implementation of for loop"
   ]
  },
  {
   "cell_type": "code",
   "execution_count": 50,
   "metadata": {},
   "outputs": [
    {
     "name": "stdout",
     "output_type": "stream",
     "text": [
      "P\n",
      "Y\n",
      "T\n",
      "H\n",
      "O\n",
      "N\n"
     ]
    }
   ],
   "source": [
    "a = 'PYTHON'\n",
    "b = iter(a)\n",
    "\n",
    "while True:\n",
    "    try:\n",
    "        i = next(b)\n",
    "        print(i)\n",
    "    except StopIteration:\n",
    "        break"
   ]
  },
  {
   "cell_type": "code",
   "execution_count": 51,
   "metadata": {},
   "outputs": [
    {
     "name": "stdout",
     "output_type": "stream",
     "text": [
      "10\n",
      "20\n",
      "30\n"
     ]
    }
   ],
   "source": [
    "a = [10,20,30]\n",
    "for i in a:\n",
    "    print(i)"
   ]
  },
  {
   "cell_type": "code",
   "execution_count": 55,
   "metadata": {},
   "outputs": [
    {
     "name": "stdout",
     "output_type": "stream",
     "text": [
      "HI 10\n",
      "HI 20\n",
      "HI 30\n"
     ]
    }
   ],
   "source": [
    "a = [10,20,30]\n",
    "for i in a:\n",
    "    print(\"HI\",i)"
   ]
  },
  {
   "cell_type": "code",
   "execution_count": 57,
   "metadata": {},
   "outputs": [
    {
     "name": "stdout",
     "output_type": "stream",
     "text": [
      "15\n"
     ]
    }
   ],
   "source": [
    "a = [1,2,3,4,5]\n",
    "s = 0\n",
    "for i in a:\n",
    "    s += i\n",
    "print(s)"
   ]
  },
  {
   "cell_type": "code",
   "execution_count": 58,
   "metadata": {},
   "outputs": [
    {
     "name": "stdout",
     "output_type": "stream",
     "text": [
      "15 -15\n"
     ]
    }
   ],
   "source": [
    "a = [1,2,3,4,5,-9,-6]\n",
    "s_pos = 0\n",
    "s_neg = 0\n",
    "for i in a:\n",
    "    if i>0:\n",
    "        s_pos += i\n",
    "    else:\n",
    "        s_neg += i\n",
    "print(s_pos,s_neg)"
   ]
  },
  {
   "cell_type": "code",
   "execution_count": 61,
   "metadata": {},
   "outputs": [
    {
     "name": "stdout",
     "output_type": "stream",
     "text": [
      "[1, 2, 3]\n",
      "1\n",
      "2\n",
      "3\n",
      "[4, 5, 6]\n",
      "4\n",
      "5\n",
      "6\n"
     ]
    }
   ],
   "source": [
    "a = [[1,2,3],[4,5,6]]\n",
    "\n",
    "for i in a:\n",
    "    print(i)\n",
    "    for j in i:\n",
    "        print(j)"
   ]
  },
  {
   "cell_type": "code",
   "execution_count": 62,
   "metadata": {},
   "outputs": [
    {
     "name": "stdout",
     "output_type": "stream",
     "text": [
      "15\n"
     ]
    }
   ],
   "source": [
    "a = '12345'\n",
    "s = 0\n",
    "for i in a:\n",
    "    s += int(i)\n",
    "print(s)"
   ]
  },
  {
   "cell_type": "code",
   "execution_count": 63,
   "metadata": {},
   "outputs": [
    {
     "name": "stdout",
     "output_type": "stream",
     "text": [
      "15\n"
     ]
    }
   ],
   "source": [
    "a = 12345\n",
    "s = 0\n",
    "\n",
    "for i in str(a):\n",
    "    s += int(i)\n",
    "print(s)"
   ]
  },
  {
   "cell_type": "code",
   "execution_count": 65,
   "metadata": {},
   "outputs": [
    {
     "name": "stdout",
     "output_type": "stream",
     "text": [
      "This\n",
      "T\n",
      "h\n",
      "i\n",
      "s\n",
      "is\n",
      "i\n",
      "s\n",
      "an\n",
      "a\n",
      "n\n",
      "example\n",
      "e\n",
      "x\n",
      "a\n",
      "m\n",
      "p\n",
      "l\n",
      "e\n"
     ]
    }
   ],
   "source": [
    "a = 'This is an example'\n",
    "\n",
    "for i in a.split():\n",
    "    print(i)\n",
    "    for j in i:\n",
    "        print(j)"
   ]
  },
  {
   "cell_type": "raw",
   "metadata": {},
   "source": [
    "X\n",
    "XX\n",
    "XXX\n",
    "XXXX"
   ]
  },
  {
   "cell_type": "code",
   "execution_count": 71,
   "metadata": {},
   "outputs": [
    {
     "name": "stdout",
     "output_type": "stream",
     "text": [
      "X\n",
      "XX\n",
      "XXX\n",
      "XXXX\n"
     ]
    }
   ],
   "source": [
    "n = 4\n",
    "\n",
    "for i in range(1,n+1):\n",
    "    for j in range(i):\n",
    "        print('X',end='')\n",
    "    print()"
   ]
  },
  {
   "cell_type": "code",
   "execution_count": 72,
   "metadata": {},
   "outputs": [
    {
     "name": "stdout",
     "output_type": "stream",
     "text": [
      "X\n",
      "XX\n",
      "XXX\n",
      "XXXX\n"
     ]
    }
   ],
   "source": [
    "n = 4\n",
    "for i in range(1,n+1):\n",
    "    print('X'*i)"
   ]
  },
  {
   "cell_type": "raw",
   "metadata": {},
   "source": [
    "   X\n",
    "  XX\n",
    " XXX\n",
    "XXXX"
   ]
  },
  {
   "cell_type": "code",
   "execution_count": 79,
   "metadata": {},
   "outputs": [
    {
     "name": "stdout",
     "output_type": "stream",
     "text": [
      "   X \n",
      "  X X \n",
      " X X X \n",
      "X X X X \n"
     ]
    }
   ],
   "source": [
    "n= 4\n",
    "k = n-1\n",
    "\n",
    "for i in range(1,n+1):\n",
    "    print(' '*k,end='')\n",
    "    print('X '*i)\n",
    "    k -= 1"
   ]
  },
  {
   "cell_type": "raw",
   "metadata": {},
   "source": [
    "X    X\n",
    "XX  XX\n",
    "XXXXXX"
   ]
  },
  {
   "cell_type": "code",
   "execution_count": 81,
   "metadata": {},
   "outputs": [
    {
     "name": "stdout",
     "output_type": "stream",
     "text": [
      "X    X\n",
      "XX  XX\n",
      "XXXXXX\n"
     ]
    }
   ],
   "source": [
    "n = 3\n",
    "k = 4 # 3 + 1 -> 3 + 3-2 -> n +n -2 -> 2 *n -2\n",
    "\n",
    "for i in range(1,n+1):\n",
    "    print('X'*i,end='')\n",
    "    print(' '*k,end='')\n",
    "    print('X'*i)\n",
    "    k -= 2"
   ]
  },
  {
   "cell_type": "code",
   "execution_count": 83,
   "metadata": {},
   "outputs": [
    {
     "name": "stdout",
     "output_type": "stream",
     "text": [
      "X      X\n",
      "XX    XX\n",
      "XXX  XXX\n",
      "XXXXXXXX\n"
     ]
    }
   ],
   "source": [
    "n = 4\n",
    "k = 6 # 4+2-> 4 + 4-2 -> 2*n - 2\n",
    "\n",
    "for i in range(1,n+1):\n",
    "    print('X'*i,end='')\n",
    "    print(' '*k,end='')\n",
    "    print('X'*i)\n",
    "    k -= 2"
   ]
  },
  {
   "cell_type": "code",
   "execution_count": 87,
   "metadata": {},
   "outputs": [
    {
     "name": "stdout",
     "output_type": "stream",
     "text": [
      "X              X\n",
      "XX            XX\n",
      "XXX          XXX\n",
      "XXXX        XXXX\n",
      "XXXXX      XXXXX\n",
      "XXXXXX    XXXXXX\n",
      "XXXXXXX  XXXXXXX\n",
      "XXXXXXXXXXXXXXXX\n"
     ]
    }
   ],
   "source": [
    "n = 8\n",
    "k = 2*n - 2\n",
    "\n",
    "for i in range(1,n+1):\n",
    "    print('X'*i,end='')\n",
    "    print(' '*k,end='')\n",
    "    print('X'*i)\n",
    "    k -= 2"
   ]
  },
  {
   "cell_type": "code",
   "execution_count": 91,
   "metadata": {},
   "outputs": [
    {
     "name": "stdout",
     "output_type": "stream",
     "text": [
      "6\n"
     ]
    }
   ],
   "source": [
    "a = [5,4,3,6,2,1,6,6,5,4]\n",
    "a.sort()\n",
    "print(a[-1])"
   ]
  },
  {
   "cell_type": "code",
   "execution_count": 96,
   "metadata": {},
   "outputs": [
    {
     "name": "stdout",
     "output_type": "stream",
     "text": [
      "None 6\n"
     ]
    }
   ],
   "source": [
    "print(a.sort(),a[-1])"
   ]
  },
  {
   "cell_type": "code",
   "execution_count": null,
   "metadata": {},
   "outputs": [],
   "source": []
  }
 ],
 "metadata": {
  "kernelspec": {
   "display_name": "Python 3",
   "language": "python",
   "name": "python3"
  },
  "language_info": {
   "codemirror_mode": {
    "name": "ipython",
    "version": 3
   },
   "file_extension": ".py",
   "mimetype": "text/x-python",
   "name": "python",
   "nbconvert_exporter": "python",
   "pygments_lexer": "ipython3",
   "version": "3.7.4"
  }
 },
 "nbformat": 4,
 "nbformat_minor": 2
}
