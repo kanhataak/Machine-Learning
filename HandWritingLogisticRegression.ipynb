{
 "cells": [
  {
   "cell_type": "code",
   "execution_count": 1,
   "metadata": {},
   "outputs": [],
   "source": [
    "%matplotlib inline\n",
    "import pandas as pd\n",
    "import matplotlib.pyplot as plt\n",
    "from sklearn.datasets import load_digits\n",
    "digites=load_digits()"
   ]
  },
  {
   "cell_type": "markdown",
   "metadata": {},
   "source": [
    "## Logistic Regression: Multiclass Classification\n",
    "    In this tutorial we will see how to use logistic regression for multiclass classification"
   ]
  },
  {
   "cell_type": "code",
   "execution_count": 2,
   "metadata": {},
   "outputs": [
    {
     "data": {
      "text/plain": [
       "['DESCR', 'data', 'images', 'target', 'target_names']"
      ]
     },
     "execution_count": 2,
     "metadata": {},
     "output_type": "execute_result"
    }
   ],
   "source": [
    "dir(digites)"
   ]
  },
  {
   "cell_type": "code",
   "execution_count": 3,
   "metadata": {},
   "outputs": [],
   "source": [
    "# digites"
   ]
  },
  {
   "cell_type": "code",
   "execution_count": 4,
   "metadata": {},
   "outputs": [
    {
     "data": {
      "text/plain": [
       "array([[ 0.,  0.,  5., 13.,  9.,  1.,  0.,  0.],\n",
       "       [ 0.,  0., 13., 15., 10., 15.,  5.,  0.],\n",
       "       [ 0.,  3., 15.,  2.,  0., 11.,  8.,  0.],\n",
       "       [ 0.,  4., 12.,  0.,  0.,  8.,  8.,  0.],\n",
       "       [ 0.,  5.,  8.,  0.,  0.,  9.,  8.,  0.],\n",
       "       [ 0.,  4., 11.,  0.,  1., 12.,  7.,  0.],\n",
       "       [ 0.,  2., 14.,  5., 10., 12.,  0.,  0.],\n",
       "       [ 0.,  0.,  6., 13., 10.,  0.,  0.,  0.]])"
      ]
     },
     "execution_count": 4,
     "metadata": {},
     "output_type": "execute_result"
    }
   ],
   "source": [
    "digites.images[0]"
   ]
  },
  {
   "cell_type": "code",
   "execution_count": 5,
   "metadata": {},
   "outputs": [
    {
     "data": {
      "text/plain": [
       "<Figure size 432x288 with 0 Axes>"
      ]
     },
     "metadata": {},
     "output_type": "display_data"
    },
    {
     "data": {
      "image/png": "[encoded data removed]",
      "text/plain": [
       "<Figure size 288x288 with 1 Axes>"
      ]
     },
     "metadata": {
      "needs_background": "light"
     },
     "output_type": "display_data"
    },
    {
     "data": {
      "image/png": "[encoded data removed]",
      "text/plain": [
       "<Figure size 288x288 with 1 Axes>"
      ]
     },
     "metadata": {
      "needs_background": "light"
     },
     "output_type": "display_data"
    },
    {
     "data": {
      "image/png": "[encoded data removed]",
      "text/plain": [
       "<Figure size 288x288 with 1 Axes>"
      ]
     },
     "metadata": {
      "needs_background": "light"
     },
     "output_type": "display_data"
    },
    {
     "data": {
      "image/png": "[encoded data removed]",
      "text/plain": [
       "<Figure size 288x288 with 1 Axes>"
      ]
     },
     "metadata": {
      "needs_background": "light"
     },
     "output_type": "display_data"
    },
    {
     "data": {
      "image/png": "[encoded data removed]",
      "text/plain": [
       "<Figure size 288x288 with 1 Axes>"
      ]
     },
     "metadata": {
      "needs_background": "light"
     },
     "output_type": "display_data"
    }
   ],
   "source": [
    "plt.gray() # gray can be black and white\n",
    "for i in range(5):   # for loop will use to five time print\n",
    "    plt.matshow(digites.images[i])"
   ]
  },
  {
   "cell_type": "code",
   "execution_count": 6,
   "metadata": {},
   "outputs": [
    {
     "data": {
      "text/plain": [
       "array([0, 1, 2, 3, 4])"
      ]
     },
     "execution_count": 6,
     "metadata": {},
     "output_type": "execute_result"
    }
   ],
   "source": [
    "digites.target[:5]"
   ]
  },
  {
   "cell_type": "markdown",
   "metadata": {},
   "source": [
    "# Create and train logistic regression model"
   ]
  },
  {
   "cell_type": "code",
   "execution_count": 7,
   "metadata": {},
   "outputs": [],
   "source": [
    "from sklearn.model_selection import train_test_split\n",
    "x_train, x_test,y_train,y_test=train_test_split(digites.data,digites.target,test_size=0.2)"
   ]
  },
  {
   "cell_type": "code",
   "execution_count": 8,
   "metadata": {},
   "outputs": [
    {
     "data": {
      "text/plain": [
       "360"
      ]
     },
     "execution_count": 8,
     "metadata": {},
     "output_type": "execute_result"
    }
   ],
   "source": [
    "len(x_test)"
   ]
  },
  {
   "cell_type": "code",
   "execution_count": 9,
   "metadata": {},
   "outputs": [
    {
     "data": {
      "text/plain": [
       "1437"
      ]
     },
     "execution_count": 9,
     "metadata": {},
     "output_type": "execute_result"
    }
   ],
   "source": [
    "len(x_train)"
   ]
  },
  {
   "cell_type": "code",
   "execution_count": 10,
   "metadata": {},
   "outputs": [
    {
     "data": {
      "text/plain": [
       "1797"
      ]
     },
     "execution_count": 10,
     "metadata": {},
     "output_type": "execute_result"
    }
   ],
   "source": [
    "len(digites.data)"
   ]
  },
  {
   "cell_type": "code",
   "execution_count": 11,
   "metadata": {},
   "outputs": [
    {
     "name": "stderr",
     "output_type": "stream",
     "text": [
      "c:\\python37\\lib\\site-packages\\sklearn\\linear_model\\_logistic.py:939: ConvergenceWarning: lbfgs failed to converge (status=1):\n",
      "STOP: TOTAL NO. of ITERATIONS REACHED LIMIT.\n",
      "\n",
      "Increase the number of iterations (max_iter) or scale the data as shown in:\n",
      "    https://scikit-learn.org/stable/modules/preprocessing.html.\n",
      "Please also refer to the documentation for alternative solver options:\n",
      "    https://scikit-learn.org/stable/modules/linear_model.html#logistic-regression\n",
      "  extra_warning_msg=_LOGISTIC_SOLVER_CONVERGENCE_MSG)\n"
     ]
    },
    {
     "data": {
      "text/plain": [
       "LogisticRegression(C=1.0, class_weight=None, dual=False, fit_intercept=True,\n",
       "                   intercept_scaling=1, l1_ratio=None, max_iter=100,\n",
       "                   multi_class='auto', n_jobs=None, penalty='l2',\n",
       "                   random_state=None, solver='lbfgs', tol=0.0001, verbose=0,\n",
       "                   warm_start=False)"
      ]
     },
     "execution_count": 11,
     "metadata": {},
     "output_type": "execute_result"
    }
   ],
   "source": [
    "from sklearn.linear_model import LogisticRegression\n",
    "model=LogisticRegression()\n",
    "model.fit(x_train,y_train)"
   ]
  },
  {
   "cell_type": "code",
   "execution_count": 12,
   "metadata": {},
   "outputs": [
    {
     "data": {
      "text/plain": [
       "array([8, 8, 5, 7, 5, 3, 0, 1, 1, 3, 8, 6, 7, 8, 8, 7, 4, 4, 5, 8, 6, 5,\n",
       "       5, 3, 6, 9, 2, 8, 0, 2, 4, 3, 0, 4, 5, 9, 8, 4, 9, 0, 0, 5, 6, 8,\n",
       "       0, 9, 0, 4, 2, 2, 2, 8, 5, 4, 8, 6, 9, 8, 4, 8, 6, 3, 0, 0, 4, 4,\n",
       "       1, 5, 5, 1, 7, 6, 3, 1, 1, 9, 3, 1, 0, 2, 9, 2, 6, 9, 3, 8, 7, 9,\n",
       "       7, 3, 6, 1, 9, 0, 7, 2, 3, 2, 1, 9, 3, 4, 0, 2, 5, 8, 5, 6, 4, 5,\n",
       "       4, 4, 9, 2, 5, 5, 4, 5, 9, 6, 4, 9, 9, 2, 3, 0, 6, 7, 4, 0, 3, 9,\n",
       "       8, 2, 4, 8, 3, 1, 8, 8, 6, 0, 3, 3, 9, 5, 9, 8, 2, 3, 8, 8, 0, 2,\n",
       "       1, 2, 2, 4, 5, 0, 9, 7, 3, 4, 2, 7, 7, 0, 1, 1, 1, 3, 2, 6, 9, 4,\n",
       "       8, 3, 4, 2, 2, 3, 3, 5, 2, 7, 3, 2, 3, 1, 4, 2, 2, 4, 7, 1, 0, 4,\n",
       "       4, 8, 4, 8, 3, 7, 1, 1, 2, 0, 2, 2, 4, 3, 5, 1, 1, 5, 4, 4, 9, 8,\n",
       "       8, 7, 0, 3, 6, 5, 5, 1, 6, 0, 8, 9, 3, 2, 8, 5, 0, 6, 3, 7, 7, 9,\n",
       "       4, 6, 9, 1, 2, 0, 3, 6, 1, 3, 0, 4, 3, 5, 6, 0, 9, 8, 3, 5, 3, 7,\n",
       "       9, 0, 9, 6, 8, 3, 3, 2, 7, 8, 3, 0, 4, 3, 1, 4, 5, 8, 9, 8, 4, 5,\n",
       "       8, 1, 7, 0, 7, 4, 2, 3, 0, 9, 1, 4, 8, 9, 1, 7, 5, 8, 4, 4, 0, 6,\n",
       "       7, 7, 0, 5, 2, 3, 5, 8, 5, 7, 0, 8, 1, 2, 1, 0, 7, 3, 2, 5, 2, 4,\n",
       "       0, 4, 3, 8, 7, 5, 5, 0, 4, 7, 5, 6, 8, 7, 7, 3, 0, 6, 9, 5, 5, 4,\n",
       "       8, 6, 5, 4, 0, 5, 1, 5])"
      ]
     },
     "execution_count": 12,
     "metadata": {},
     "output_type": "execute_result"
    }
   ],
   "source": [
    "model.predict(x_test)"
   ]
  },
  {
   "cell_type": "code",
   "execution_count": 13,
   "metadata": {},
   "outputs": [
    {
     "data": {
      "text/plain": [
       "array([8, 8, 5, 8, 5, 3, 0, 1, 1, 3, 8, 6, 7, 8, 8, 7, 4, 4, 5, 8, 6, 3,\n",
       "       5, 3, 6, 9, 2, 8, 0, 2, 4, 3, 0, 4, 5, 9, 8, 4, 9, 0, 0, 5, 6, 8,\n",
       "       0, 9, 0, 8, 2, 2, 2, 8, 5, 4, 8, 6, 9, 8, 4, 8, 6, 3, 0, 0, 4, 4,\n",
       "       1, 5, 5, 2, 7, 6, 3, 1, 1, 9, 3, 1, 0, 2, 9, 8, 6, 9, 3, 8, 7, 9,\n",
       "       7, 3, 6, 4, 9, 0, 7, 2, 3, 2, 1, 8, 3, 4, 0, 2, 5, 8, 5, 6, 4, 5,\n",
       "       4, 4, 9, 2, 5, 5, 4, 5, 9, 6, 4, 9, 9, 2, 3, 0, 6, 7, 4, 0, 3, 9,\n",
       "       8, 2, 4, 8, 3, 1, 9, 8, 6, 0, 3, 3, 9, 3, 9, 8, 2, 3, 8, 8, 0, 2,\n",
       "       1, 2, 2, 4, 5, 0, 9, 7, 3, 4, 5, 7, 7, 0, 1, 8, 1, 3, 2, 6, 9, 4,\n",
       "       8, 3, 4, 2, 2, 3, 3, 5, 2, 7, 3, 2, 3, 1, 4, 2, 2, 4, 7, 1, 0, 4,\n",
       "       4, 8, 4, 8, 3, 7, 8, 1, 2, 0, 2, 2, 4, 3, 5, 1, 1, 5, 8, 4, 9, 8,\n",
       "       8, 7, 0, 3, 6, 5, 5, 1, 6, 0, 8, 9, 3, 2, 8, 5, 0, 6, 3, 7, 7, 9,\n",
       "       4, 6, 3, 1, 2, 0, 3, 6, 1, 3, 0, 4, 3, 5, 6, 0, 9, 8, 3, 5, 3, 7,\n",
       "       9, 0, 9, 6, 8, 3, 3, 2, 7, 8, 3, 0, 4, 3, 1, 4, 5, 3, 9, 8, 4, 5,\n",
       "       8, 1, 7, 0, 7, 4, 2, 3, 0, 9, 1, 4, 8, 9, 1, 7, 5, 8, 4, 4, 0, 6,\n",
       "       7, 7, 0, 5, 2, 3, 5, 8, 5, 7, 0, 8, 1, 2, 6, 0, 7, 3, 2, 5, 2, 4,\n",
       "       0, 4, 3, 8, 7, 5, 5, 0, 4, 7, 5, 6, 8, 7, 7, 3, 0, 6, 9, 5, 5, 4,\n",
       "       8, 6, 9, 4, 0, 5, 1, 5])"
      ]
     },
     "execution_count": 13,
     "metadata": {},
     "output_type": "execute_result"
    }
   ],
   "source": [
    "y_test"
   ]
  },
  {
   "cell_type": "markdown",
   "metadata": {},
   "source": [
    "# Measure accuracy of our model"
   ]
  },
  {
   "cell_type": "code",
   "execution_count": 14,
   "metadata": {},
   "outputs": [
    {
     "data": {
      "text/plain": [
       "0.9527777777777777"
      ]
     },
     "execution_count": 14,
     "metadata": {},
     "output_type": "execute_result"
    }
   ],
   "source": [
    "model.score(x_test,y_test)"
   ]
  },
  {
   "cell_type": "code",
   "execution_count": 15,
   "metadata": {},
   "outputs": [
    {
     "data": {
      "text/plain": [
       "array([[2.03688751e-11, 1.52341990e-07, 2.03691222e-10, ...,\n",
       "        3.25653303e-15, 9.99772460e-01, 1.80458379e-04],\n",
       "       [6.58569692e-08, 1.59627038e-11, 1.29431007e-09, ...,\n",
       "        5.40841391e-11, 9.99978656e-01, 1.85252473e-06],\n",
       "       [2.30105013e-13, 2.40223447e-13, 6.47238271e-17, ...,\n",
       "        1.73511297e-18, 1.10487476e-12, 4.14497350e-09],\n",
       "       ...,\n",
       "       [2.17212709e-16, 1.03063445e-13, 9.49945484e-20, ...,\n",
       "        1.20540381e-17, 1.50174015e-13, 1.31492236e-10],\n",
       "       [6.35670627e-03, 8.79977054e-01, 9.29271012e-08, ...,\n",
       "        9.49675410e-03, 1.40237314e-02, 1.45371544e-02],\n",
       "       [6.23770238e-15, 5.35440929e-09, 1.60918641e-08, ...,\n",
       "        1.51955522e-10, 7.59059230e-06, 3.13933081e-10]])"
      ]
     },
     "execution_count": 15,
     "metadata": {},
     "output_type": "execute_result"
    }
   ],
   "source": [
    "model.predict_proba(x_test)"
   ]
  },
  {
   "cell_type": "markdown",
   "metadata": {},
   "source": [
    "# Confusion Matrix"
   ]
  },
  {
   "cell_type": "code",
   "execution_count": 16,
   "metadata": {},
   "outputs": [],
   "source": [
    "y_predicted=model.predict(x_test)"
   ]
  },
  {
   "cell_type": "code",
   "execution_count": 17,
   "metadata": {},
   "outputs": [
    {
     "data": {
      "text/plain": [
       "array([[38,  0,  0,  0,  0,  0,  0,  0,  0,  0],\n",
       "       [ 0, 25,  0,  0,  0,  0,  0,  0,  0,  0],\n",
       "       [ 0,  1, 34,  0,  0,  0,  0,  0,  0,  0],\n",
       "       [ 0,  0,  0, 43,  0,  2,  0,  0,  1,  1],\n",
       "       [ 0,  1,  0,  0, 42,  0,  0,  0,  0,  0],\n",
       "       [ 0,  0,  1,  0,  0, 38,  0,  0,  0,  0],\n",
       "       [ 0,  1,  0,  0,  0,  0, 25,  0,  0,  0],\n",
       "       [ 0,  0,  0,  0,  0,  0,  0, 29,  0,  0],\n",
       "       [ 0,  2,  1,  0,  2,  0,  0,  1, 40,  1],\n",
       "       [ 0,  0,  0,  0,  0,  1,  0,  0,  1, 29]], dtype=int64)"
      ]
     },
     "execution_count": 17,
     "metadata": {},
     "output_type": "execute_result"
    }
   ],
   "source": [
    "from sklearn.metrics import confusion_matrix\n",
    "cm=confusion_matrix(y_test,y_predicted)\n",
    "cm"
   ]
  },
  {
   "cell_type": "code",
   "execution_count": 18,
   "metadata": {},
   "outputs": [
    {
     "data": {
      "text/plain": [
       "Text(69.0, 0.5, 'Truth')"
      ]
     },
     "execution_count": 18,
     "metadata": {},
     "output_type": "execute_result"
    },
    {
     "data": {
      "image/png": "[encoded data removed]",
      "text/plain": [
       "<Figure size 720x576 with 2 Axes>"
      ]
     },
     "metadata": {
      "needs_background": "light"
     },
     "output_type": "display_data"
    }
   ],
   "source": [
    "import seaborn as sn\n",
    "plt.figure(figsize=(10,8))\n",
    "sn.heatmap(cm,annot=True)\n",
    "plt.xlabel(\"Predicted\")\n",
    "plt.ylabel(\"Truth\")"
   ]
  },
  {
   "cell_type": "code",
   "execution_count": null,
   "metadata": {},
   "outputs": [],
   "source": []
  }
 ],
 "metadata": {
  "kernelspec": {
   "display_name": "Python 3",
   "language": "python",
   "name": "python3"
  },
  "language_info": {
   "codemirror_mode": {
    "name": "ipython",
    "version": 3
   },
   "file_extension": ".py",
   "mimetype": "text/x-python",
   "name": "python",
   "nbconvert_exporter": "python",
   "pygments_lexer": "ipython3",
   "version": "3.7.4"
  }
 },
 "nbformat": 4,
 "nbformat_minor": 2
}
