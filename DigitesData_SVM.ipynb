{
 "cells": [
  {
   "cell_type": "code",
   "execution_count": 1,
   "metadata": {},
   "outputs": [],
   "source": [
    "# %matplotlib inline\n",
    "import pandas as pd\n",
    "import matplotlib.pyplot as plt\n",
    "from sklearn.datasets import load_digits\n",
    "digites=load_digits()"
   ]
  },
  {
   "cell_type": "code",
   "execution_count": 2,
   "metadata": {},
   "outputs": [
    {
     "data": {
      "text/plain": [
       "['DESCR', 'data', 'images', 'target', 'target_names']"
      ]
     },
     "execution_count": 2,
     "metadata": {},
     "output_type": "execute_result"
    }
   ],
   "source": [
    "dir(digites)"
   ]
  },
  {
   "cell_type": "code",
   "execution_count": 3,
   "metadata": {},
   "outputs": [
    {
     "data": {
      "text/plain": [
       "array([[ 0.,  0.,  0.,  4., 15., 12.,  0.,  0.],\n",
       "       [ 0.,  0.,  3., 16., 15., 14.,  0.,  0.],\n",
       "       [ 0.,  0.,  8., 13.,  8., 16.,  0.,  0.],\n",
       "       [ 0.,  0.,  1.,  6., 15., 11.,  0.,  0.],\n",
       "       [ 0.,  1.,  8., 13., 15.,  1.,  0.,  0.],\n",
       "       [ 0.,  9., 16., 16.,  5.,  0.,  0.,  0.],\n",
       "       [ 0.,  3., 13., 16., 16., 11.,  5.,  0.],\n",
       "       [ 0.,  0.,  0.,  3., 11., 16.,  9.,  0.]])"
      ]
     },
     "execution_count": 3,
     "metadata": {},
     "output_type": "execute_result"
    }
   ],
   "source": [
    "digites.images[2]"
   ]
  },
  {
   "cell_type": "code",
   "execution_count": 4,
   "metadata": {
    "collapsed": true
   },
   "outputs": [
    {
     "data": {
      "image/png": "[encoded data removed]",
      "text/plain": [
       "<Figure size 288x288 with 1 Axes>"
      ]
     },
     "metadata": {
      "needs_background": "light"
     },
     "output_type": "display_data"
    },
    {
     "data": {
      "image/png": "[encoded data removed]",
      "text/plain": [
       "<Figure size 288x288 with 1 Axes>"
      ]
     },
     "metadata": {
      "needs_background": "light"
     },
     "output_type": "display_data"
    },
    {
     "data": {
      "image/png": "[encoded data removed]",
      "text/plain": [
       "<Figure size 288x288 with 1 Axes>"
      ]
     },
     "metadata": {
      "needs_background": "light"
     },
     "output_type": "display_data"
    },
    {
     "data": {
      "image/png": "[encoded data removed]",
      "text/plain": [
       "<Figure size 288x288 with 1 Axes>"
      ]
     },
     "metadata": {
      "needs_background": "light"
     },
     "output_type": "display_data"
    },
    {
     "data": {
      "image/png": "[encoded data removed]",
      "text/plain": [
       "<Figure size 288x288 with 1 Axes>"
      ]
     },
     "metadata": {
      "needs_background": "light"
     },
     "output_type": "display_data"
    },
    {
     "data": {
      "image/png": "[encoded data removed]",
      "text/plain": [
       "<Figure size 288x288 with 1 Axes>"
      ]
     },
     "metadata": {
      "needs_background": "light"
     },
     "output_type": "display_data"
    }
   ],
   "source": [
    "for i in range(6):\n",
    "    plt.matshow(digites.images[i])"
   ]
  },
  {
   "cell_type": "code",
   "execution_count": 11,
   "metadata": {},
   "outputs": [
    {
     "data": {
      "text/plain": [
       "array([[ 0.,  0.,  5., ...,  0.,  0.,  0.],\n",
       "       [ 0.,  0.,  0., ..., 10.,  0.,  0.],\n",
       "       [ 0.,  0.,  0., ..., 16.,  9.,  0.],\n",
       "       ...,\n",
       "       [ 0.,  0.,  1., ...,  6.,  0.,  0.],\n",
       "       [ 0.,  0.,  2., ..., 12.,  0.,  0.],\n",
       "       [ 0.,  0., 10., ..., 12.,  1.,  0.]])"
      ]
     },
     "execution_count": 11,
     "metadata": {},
     "output_type": "execute_result"
    }
   ],
   "source": [
    "digites.data"
   ]
  },
  {
   "cell_type": "code",
   "execution_count": 12,
   "metadata": {},
   "outputs": [
    {
     "data": {
      "text/plain": [
       "array([0, 1, 2, 3, 4, 5])"
      ]
     },
     "execution_count": 12,
     "metadata": {},
     "output_type": "execute_result"
    }
   ],
   "source": [
    "digites.target[:6]\n"
   ]
  },
  {
   "cell_type": "code",
   "execution_count": null,
   "metadata": {},
   "outputs": [],
   "source": []
  },
  {
   "cell_type": "code",
   "execution_count": 14,
   "metadata": {},
   "outputs": [],
   "source": [
    "from sklearn.model_selection import train_test_split\n",
    "x_train,x_test,y_train,y_test = train_test_split(digites.data,digites.target,test_size=0.3)"
   ]
  },
  {
   "cell_type": "code",
   "execution_count": 15,
   "metadata": {},
   "outputs": [
    {
     "data": {
      "text/plain": [
       "540"
      ]
     },
     "execution_count": 15,
     "metadata": {},
     "output_type": "execute_result"
    }
   ],
   "source": [
    "len(x_test)"
   ]
  },
  {
   "cell_type": "code",
   "execution_count": 16,
   "metadata": {},
   "outputs": [
    {
     "data": {
      "text/plain": [
       "540"
      ]
     },
     "execution_count": 16,
     "metadata": {},
     "output_type": "execute_result"
    }
   ],
   "source": [
    "len(x_test)"
   ]
  },
  {
   "cell_type": "code",
   "execution_count": 17,
   "metadata": {},
   "outputs": [
    {
     "data": {
      "text/plain": [
       "1797"
      ]
     },
     "execution_count": 17,
     "metadata": {},
     "output_type": "execute_result"
    }
   ],
   "source": [
    "len(digites.data)"
   ]
  },
  {
   "cell_type": "code",
   "execution_count": 18,
   "metadata": {},
   "outputs": [
    {
     "data": {
      "text/plain": [
       "1797"
      ]
     },
     "execution_count": 18,
     "metadata": {},
     "output_type": "execute_result"
    }
   ],
   "source": [
    "len(digites.target)"
   ]
  },
  {
   "cell_type": "code",
   "execution_count": 21,
   "metadata": {},
   "outputs": [
    {
     "data": {
      "text/plain": [
       "SVC(C=1.0, break_ties=False, cache_size=200, class_weight=None, coef0=0.0,\n",
       "    decision_function_shape='ovr', degree=3, gamma='scale', kernel='poly',\n",
       "    max_iter=-1, probability=False, random_state=None, shrinking=True,\n",
       "    tol=0.001, verbose=False)"
      ]
     },
     "execution_count": 21,
     "metadata": {},
     "output_type": "execute_result"
    }
   ],
   "source": [
    "from sklearn.svm import SVC\n",
    "model=SVC(kernel=\"poly\")\n",
    "model.fit(x_train, y_train)"
   ]
  },
  {
   "cell_type": "code",
   "execution_count": 25,
   "metadata": {},
   "outputs": [],
   "source": [
    "yp=model.predict(x_test)"
   ]
  },
  {
   "cell_type": "code",
   "execution_count": 26,
   "metadata": {
    "collapsed": true
   },
   "outputs": [
    {
     "data": {
      "text/plain": [
       "array([9, 2, 6, 2, 3, 1, 2, 6, 5, 2, 4, 0, 9, 7, 7, 9, 5, 1, 0, 8, 8, 4,\n",
       "       0, 2, 4, 6, 5, 2, 0, 6, 6, 0, 5, 9, 3, 5, 5, 3, 1, 7, 2, 6, 8, 8,\n",
       "       1, 4, 9, 9, 4, 6, 9, 3, 5, 9, 1, 6, 5, 5, 4, 9, 3, 8, 0, 6, 3, 7,\n",
       "       7, 2, 9, 9, 4, 0, 5, 2, 9, 0, 7, 8, 1, 8, 7, 3, 3, 9, 7, 5, 8, 2,\n",
       "       2, 8, 2, 5, 4, 2, 8, 7, 8, 7, 4, 1, 4, 4, 4, 9, 9, 5, 4, 6, 8, 7,\n",
       "       3, 0, 8, 2, 0, 4, 9, 8, 8, 6, 6, 7, 5, 9, 4, 2, 4, 2, 3, 5, 4, 8,\n",
       "       5, 2, 3, 2, 0, 9, 5, 7, 0, 4, 4, 9, 5, 3, 4, 7, 8, 5, 8, 1, 0, 1,\n",
       "       2, 3, 7, 1, 2, 8, 1, 0, 6, 0, 0, 0, 0, 5, 3, 7, 0, 3, 5, 5, 6, 1,\n",
       "       0, 4, 9, 4, 6, 9, 5, 4, 4, 7, 0, 1, 0, 1, 5, 5, 9, 9, 2, 7, 6, 6,\n",
       "       9, 8, 2, 6, 8, 8, 4, 0, 3, 6, 9, 1, 1, 0, 1, 5, 8, 0, 6, 8, 4, 0,\n",
       "       1, 2, 9, 0, 0, 9, 7, 3, 6, 5, 6, 2, 7, 5, 7, 2, 2, 9, 5, 3, 4, 6,\n",
       "       6, 7, 1, 2, 1, 6, 6, 7, 8, 5, 1, 4, 0, 9, 4, 7, 2, 7, 1, 3, 5, 2,\n",
       "       4, 0, 4, 8, 4, 2, 6, 4, 8, 8, 7, 4, 7, 0, 6, 3, 5, 5, 5, 8, 8, 8,\n",
       "       0, 8, 8, 1, 1, 6, 0, 5, 3, 6, 5, 5, 8, 0, 7, 0, 1, 3, 8, 8, 5, 9,\n",
       "       9, 2, 5, 1, 5, 0, 0, 9, 6, 6, 5, 4, 2, 9, 7, 8, 6, 7, 4, 4, 3, 2,\n",
       "       4, 6, 8, 9, 2, 3, 7, 3, 7, 1, 0, 2, 8, 2, 6, 4, 7, 5, 8, 8, 8, 8,\n",
       "       4, 1, 3, 3, 4, 3, 1, 4, 1, 1, 9, 1, 9, 4, 0, 3, 8, 4, 7, 3, 8, 7,\n",
       "       4, 5, 5, 1, 3, 1, 5, 4, 0, 5, 9, 2, 0, 1, 8, 3, 8, 3, 0, 0, 2, 4,\n",
       "       1, 4, 0, 8, 4, 6, 0, 1, 0, 9, 7, 9, 4, 4, 5, 3, 2, 3, 2, 4, 2, 0,\n",
       "       0, 2, 2, 5, 0, 4, 7, 2, 7, 1, 7, 9, 9, 6, 2, 6, 7, 1, 8, 6, 7, 9,\n",
       "       0, 4, 8, 6, 6, 6, 5, 1, 5, 0, 5, 5, 5, 9, 2, 2, 1, 0, 4, 2, 7, 2,\n",
       "       9, 1, 0, 1, 7, 1, 7, 2, 0, 3, 7, 1, 3, 6, 8, 0, 4, 9, 7, 0, 2, 6,\n",
       "       4, 5, 6, 1, 0, 2, 1, 5, 9, 7, 9, 9, 3, 1, 0, 8, 4, 2, 9, 2, 7, 2,\n",
       "       6, 4, 0, 5, 1, 8, 5, 7, 3, 8, 4, 5, 3, 6, 4, 6, 2, 0, 2, 4, 2, 8,\n",
       "       7, 9, 8, 3, 3, 3, 1, 0, 9, 7, 3, 8])"
      ]
     },
     "execution_count": 26,
     "metadata": {},
     "output_type": "execute_result"
    }
   ],
   "source": [
    "y_test"
   ]
  },
  {
   "cell_type": "code",
   "execution_count": 27,
   "metadata": {},
   "outputs": [
    {
     "data": {
      "text/plain": [
       "0.9888888888888889"
      ]
     },
     "execution_count": 27,
     "metadata": {},
     "output_type": "execute_result"
    }
   ],
   "source": [
    "model.score(x_test,y_test)"
   ]
  },
  {
   "cell_type": "code",
   "execution_count": 28,
   "metadata": {},
   "outputs": [
    {
     "name": "stdout",
     "output_type": "stream",
     "text": [
      "              precision    recall  f1-score   support\n",
      "\n",
      "           0       1.00      1.00      1.00        61\n",
      "           1       0.98      1.00      0.99        50\n",
      "           2       1.00      1.00      1.00        58\n",
      "           3       1.00      0.98      0.99        44\n",
      "           4       1.00      1.00      1.00        62\n",
      "           5       0.97      1.00      0.98        58\n",
      "           6       1.00      0.98      0.99        48\n",
      "           7       0.98      0.98      0.98        51\n",
      "           8       0.98      0.96      0.97        57\n",
      "           9       0.98      0.98      0.98        51\n",
      "\n",
      "    accuracy                           0.99       540\n",
      "   macro avg       0.99      0.99      0.99       540\n",
      "weighted avg       0.99      0.99      0.99       540\n",
      "\n"
     ]
    }
   ],
   "source": [
    "from sklearn.metrics import confusion_matrix,classification_report\n",
    "print(classification_report(y_test,yp))"
   ]
  },
  {
   "cell_type": "code",
   "execution_count": null,
   "metadata": {},
   "outputs": [],
   "source": []
  }
 ],
 "metadata": {
  "kernelspec": {
   "display_name": "Python 3",
   "language": "python",
   "name": "python3"
  },
  "language_info": {
   "codemirror_mode": {
    "name": "ipython",
    "version": 3
   },
   "file_extension": ".py",
   "mimetype": "text/x-python",
   "name": "python",
   "nbconvert_exporter": "python",
   "pygments_lexer": "ipython3",
   "version": "3.7.4"
  }
 },
 "nbformat": 4,
 "nbformat_minor": 2
}
